{
 "cells": [
  {
   "cell_type": "code",
   "execution_count": null,
   "metadata": {},
   "outputs": [],
   "source": [
    "from datetime import datetime, timedelta\n",
    "\n",
    "current_date = datetime.today()\n",
    "\n",
    "new_date = current_date - timedelta(days=5)\n",
    "\n",
    "print(\"Current Date:\", current_date.strftime(\"%Y-%m-%d\"))\n",
    "print(\"Date 5 days ago:\", new_date.strftime(\"%Y-%m-%d\"))\n"
   ]
  },
  {
   "cell_type": "code",
   "execution_count": null,
   "metadata": {},
   "outputs": [],
   "source": [
    "from datetime import datetime, timedelta\n",
    "\n",
    "today = datetime.today()\n",
    "yesterday = today - timedelta(days=1)\n",
    "tomorrow = today + timedelta(days=1)\n",
    "\n",
    "print(\"Yesterday:\", yesterday.strftime(\"%Y-%m-%d\"))\n",
    "print(\"Today:\", today.strftime(\"%Y-%m-%d\"))\n",
    "print(\"Tomorrow:\", tomorrow.strftime(\"%Y-%m-%d\"))\n"
   ]
  },
  {
   "cell_type": "code",
   "execution_count": null,
   "metadata": {},
   "outputs": [],
   "source": [
    "from datetime import datetime\n",
    "\n",
    "now = datetime.now()\n",
    "now_no_microseconds = now.replace(microsecond=0)\n",
    "\n",
    "print(\"With microseconds:\", now)\n",
    "print(\"Without microseconds:\", now_no_microseconds)\n"
   ]
  },
  {
   "cell_type": "code",
   "execution_count": null,
   "metadata": {},
   "outputs": [],
   "source": [
    "from datetime import datetime\n",
    "\n",
    "date1 = datetime(2025, 2, 21, 12, 0, 0)\n",
    "date2 = datetime(2025, 2, 18, 10, 30, 0)\n",
    "\n",
    "difference = abs((date1 - date2).total_seconds())\n",
    "\n",
    "print(\"Difference in seconds:\", difference)\n"
   ]
  }
 ],
 "metadata": {
  "language_info": {
   "name": "python"
  }
 },
 "nbformat": 4,
 "nbformat_minor": 2
}
